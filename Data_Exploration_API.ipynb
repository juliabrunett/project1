{
 "cells": [
  {
   "cell_type": "code",
   "execution_count": null,
   "id": "buried-summit",
   "metadata": {},
   "outputs": [],
   "source": [
    "# Import api_keys from config.py\n",
    "from config import api_key_1\n",
    "from config import api_key_2\n",
    "\n",
    "# Import pandas for dataframe\n",
    "import pandas as pd\n",
    "\n",
    "# Import json, requests, and pprint\n",
    "import json\n",
    "import requests\n",
    "from pprint import pprint"
   ]
  },
  {
   "cell_type": "code",
   "execution_count": null,
   "id": "certified-scratch",
   "metadata": {},
   "outputs": [],
   "source": [
    "# Define release years to be found\n",
    "release_year = [\"2015\", \"2016\", \"2017\", \"2018\", \"2019\"]"
   ]
  },
  {
   "cell_type": "code",
   "execution_count": null,
   "id": "everyday-appendix",
   "metadata": {},
   "outputs": [],
   "source": [
    "# Define lists for saving data\n",
    "movie_title = []\n",
    "movie_id = []\n",
    "release_date = []\n",
    "tmdb_vote_average = []\n",
    "tmdb_vote_count = []\n",
    "\n",
    "tmdb_revenue = []\n",
    "tmdb_budget = []\n",
    "\n",
    "genres = []\n",
    "genres_id = []\n",
    "production_companies = []"
   ]
  },
  {
   "cell_type": "markdown",
   "id": "civilian-judges",
   "metadata": {},
   "source": [
    "## The Movie Database:"
   ]
  },
  {
   "cell_type": "code",
   "execution_count": null,
   "id": "certain-glossary",
   "metadata": {},
   "outputs": [],
   "source": [
    "# Iterate through designated release years\n",
    "for year in release_year:\n",
    "\n",
    "    # Define TMDb url: Using discover (by release year and sort by revenue: descending)\n",
    "    tmdb_url = f\"https://api.themoviedb.org/3/discover/movie?primary_release_year={year}&api_key={api_key_1}&sort_by=revenue.desc\"\n",
    "    \n",
    "    # Get the json response for the initial query\n",
    "    tmdb_response = requests.get(tmdb_url).json()\n",
    "    \n",
    "    # Iterate through json response 25 times to get the top 25 movies\n",
    "    # movie = index of list\n",
    "    for movie in range(0, 25):\n",
    "    \n",
    "        # Get results and store in a variable\n",
    "        m_title = tmdb_response[\"results\"][movie][\"title\"]\n",
    "        m_id = tmdb_response[\"results\"][movie][\"id\"]\n",
    "        m_release = tmdb_response[\"results\"][movie][\"release_date\"]\n",
    "        vote_average = tmdb_response[\"results\"][movie][\"vote_average\"]\n",
    "        vote_count = tmdb_response[\"results\"][movie][\"vote_count\"]\n",
    "        \n",
    "        if vote_count == 0 | vote_average == 0:\n",
    "            print(f\"This movie doesn't have user votes.\")\n",
    "        else:     \n",
    "            # Append vote average and vote count to lists\n",
    "            tmdb_vote_average.append(vote_average)\n",
    "            tmdb_vote_count.append(vote_count)\n",
    "    \n",
    "            # Append the movie title, movie ID, and release date to the created lists\n",
    "            movie_title.append(m_title)\n",
    "            movie_id.append(m_id)\n",
    "            release_date.append(m_release)\n",
    "        \n",
    "        # Take the movie ID's from above, and append to the url to get more details\n",
    "        tmdb_details_url = f\"https://api.themoviedb.org/3/movie/{movie_id[movie]}?api_key={api_key_1}\"\n",
    "    \n",
    "        # Get the details json response for each individual movie\n",
    "        tmdb_details_response = requests.get(tmdb_details_url).json()\n",
    "        \n",
    "        # Save revenue and budget into variables\n",
    "        revenue = tmdb_details_response[\"revenue\"]\n",
    "        budget = tmdb_details_response[\"budget\"]\n",
    "        \n",
    "        # Append revenue and budget to lists \n",
    "        tmdb_revenue.append(revenue)\n",
    "        tmdb_budget.append(budget)\n",
    "        \n",
    "        # For loop to get production companies\n",
    "        for company in range(len(tmdb_details_response[\"production_companies\"])):\n",
    "            production_companies.append(tmdb_details_response[\"production_companies\"][company][\"name\"])\n",
    "        \n",
    "        # For loop to get genres\n",
    "        for genre in range(len(tmdb_details_response[\"genres\"])):\n",
    "            genres.append(tmdb_details_response[\"genres\"][genre][\"name\"])\n",
    "            genres_id.append(tmdb_details_response[\"genres\"][genre][\"id\"])"
   ]
  },
  {
   "cell_type": "markdown",
   "id": "straight-tribe",
   "metadata": {},
   "source": [
    "## Official Movie Database (OMDb):"
   ]
  },
  {
   "cell_type": "code",
   "execution_count": null,
   "id": "unlike-terrace",
   "metadata": {},
   "outputs": [],
   "source": [
    "# Define lists for results\n",
    "omdb_titles = []\n",
    "dom_box_office = []\n",
    "imdb_rating = []\n",
    "rotten_tomatoes = []\n",
    "metacritic_rating = []\n",
    "omdb_awards = []"
   ]
  },
  {
   "cell_type": "code",
   "execution_count": null,
   "id": "enormous-saturn",
   "metadata": {},
   "outputs": [],
   "source": [
    "# Iterate through movie title list to get results from OMDb\n",
    "# movie = index\n",
    "for movie in movie_title:\n",
    "    \n",
    "    # Define OMDb url\n",
    "    omdb_url = f\"http://www.omdbapi.com/?apikey={api_key_2}&t={movie_title[movie]}\"\n",
    "\n",
    "    # Get json response for the query\n",
    "    omdb_response = requests.get(omdb_url).json()\n",
    "    \n",
    "    # Get results and put them in variables\n",
    "    omdb_titles = omdb_response[\"Title\"]\n",
    "    box_office = omdb_response[\"BoxOffice\"]\n",
    "    imdb = omdb_response[\"imdbRating\"]\n",
    "    r_tom = omdb_response[\"Ratings\"][1][\"Value\"]\n",
    "    metacritic = omdb_response[\"Metascore\"]\n",
    "    awards = omdb_response[\"Awards\"]\n",
    "    \n",
    "    # Append results to lists\n",
    "    dom_box_office.append(box_office)\n",
    "    imdb_rating.append(imdb)\n",
    "    rotten_tomatoes.append(r_tom)\n",
    "    metacritic_rating.append(metacritic)\n",
    "    omdb_awards.append(awards)\n"
   ]
  }
 ],
 "metadata": {
  "kernelspec": {
   "display_name": "Python [conda env:PythonData] *",
   "language": "python",
   "name": "conda-env-PythonData-py"
  },
  "language_info": {
   "codemirror_mode": {
    "name": "ipython",
    "version": 3
   },
   "file_extension": ".py",
   "mimetype": "text/x-python",
   "name": "python",
   "nbconvert_exporter": "python",
   "pygments_lexer": "ipython3",
   "version": "3.6.10"
  }
 },
 "nbformat": 4,
 "nbformat_minor": 5
}
